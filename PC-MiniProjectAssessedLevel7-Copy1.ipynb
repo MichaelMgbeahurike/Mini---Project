{
 "cells": [
  {
   "cell_type": "markdown",
   "metadata": {},
   "source": [
    "# Miniproject Assessed Exercise\n",
    "# Level  8\n",
    "## Michael Mgbeahurike\n",
    "## Student ID: 230332704\n",
    "## 12 November\n",
    "## Version 1 (3 October 2023)"
   ]
  },
  {
   "cell_type": "markdown",
   "metadata": {},
   "source": [
    "## Summary of the Question \n",
    "\n",
    "Write a short quiz program.\n",
    "Short quiz program is going to about Computer Science."
   ]
  },
  {
   "cell_type": "markdown",
   "metadata": {},
   "source": [
    "## Justification that the program passes this level\n",
    "This is based on tick boxes at start of the question description for miniproject program level 7 & 8\n",
    "- All the constructs,style and features above AND\n",
    "- Both file input AND file output\n",
    "- Excellent style over comments, variable usage, final variables, etc.\n",
    "- Program is fully composed into methods so excellent use of methods throughout\n",
    "- All variables are defined and have minimum scope\n",
    "- Includes procedural programming style abstract data type with a clearly commented/specified set of operations, defines and uses accessor methods(all defined in the main class) to accessor records. "
   ]
  },
  {
   "cell_type": "markdown",
   "metadata": {},
   "source": [
    "## The literate program development"
   ]
  },
  {
   "cell_type": "markdown",
   "metadata": {},
   "source": [
    "### WelcomeRules\n",
    "\n",
    "#### What it does\n",
    "This method prints a welcome chat and the rules.\n",
    "\n",
    "#### Implementation (how it works)\n",
    "It is just a series of simple print statements.\n"
   ]
  },
  {
   "cell_type": "code",
   "execution_count": 1,
   "metadata": {},
   "outputs": [],
   "source": [
    "// Print a chatbot hello message and the rules\n",
    "//\n",
    "public static void WelcomeRules ()\n",
    "{\n",
    "     System.out.println(\"=============================================\");\n",
    "     System.out.println(\"Hello there user\");\n",
    "     System.out.println(\"Welcome to the Short Computer Science Quiz\");\n",
    "     System.out.println(\"Here are the rules list below.\");\n",
    "     Rules();\n",
    "     System.out.println(\"=============================================\");\n",
    "     return;\n",
    "} // END WelcomeRules\n",
    "\n",
    "//Prints the rules for the quiz.\n",
    "//\n",
    "public static void Rules ()\n",
    "{\n",
    "    System.out.println(\"Rule 1 : Do not look up information on the internet\");\n",
    "    System.out.println(\"Rule 2 : Do not ask anyone for help\");\n",
    "    System.out.println(\"Rule 3 : Have fun and enjoy\");\n",
    "    return;\n",
    "} // END Rules\n"
   ]
  },
  {
   "cell_type": "markdown",
   "metadata": {},
   "source": [
    "#### Testing"
   ]
  },
  {
   "cell_type": "code",
   "execution_count": 53,
   "metadata": {},
   "outputs": [
    {
     "name": "stdout",
     "output_type": "stream",
     "text": [
      "Hello there user\n",
      "Welcome to the Short Computer Science Quiz\n",
      "Here are the rules list below.\n",
      "Rule 1 : Do not look up information on the internet\n",
      "Rule 2 : Do not ask anyone for help\n",
      "Rule 3 : Have fun and enjoy\n"
     ]
    }
   ],
   "source": [
    "WelcomeRules ();"
   ]
  },
  {
   "cell_type": "markdown",
   "metadata": {},
   "source": [
    "### Agreement\n",
    "\n",
    "#### What it does\n",
    "This method asks the user's permission \n",
    "\n",
    "#### Implementation (how it works)\n",
    "It uses a scanner to do input, reads in a single line of input and stores it in variable name to be printed later.\n"
   ]
  },
  {
   "cell_type": "code",
   "execution_count": 4,
   "metadata": {},
   "outputs": [],
   "source": [
    "// Asks the users name then greets them by name\n",
    "//\n",
    "import java.io.*;\n",
    "    // Asks the users if the user would like to join the quiz\n",
    "    //\n",
    "    public static void Agreement () throws IOException\n",
    "    {\n",
    "         String Agree1;\n",
    "         String Agree2;\n",
    "         Scanner scanner = new Scanner(System.in);\n",
    "         System.out.println(\"=============================================\");\n",
    "         System.out.println(\"Would you like to join the short quiz?\");\n",
    "         Agree1 = scanner.nextLine();\n",
    "         Agree1 = Agree1.toUpperCase();\n",
    "         System.out.println(\"Is this you answer \"+Agree1+ \".\");\n",
    "         Agree2 = scanner.nextLine();\n",
    "         Agree2 = Agree2.toUpperCase();\n",
    "         System.out.println(\"Processing...\");\n",
    "         System.out.println(\"=============================================\");\n",
    "         if ((Agree1.equals(\"YES\")) && (Agree2.equals(\"YES\")))\n",
    "         {\n",
    "             PlayerSystem();\n",
    "         }    \n",
    "         return;\n",
    "    } // END Agreement"
   ]
  },
  {
   "cell_type": "markdown",
   "metadata": {},
   "source": [
    "#### Testing"
   ]
  },
  {
   "cell_type": "code",
   "execution_count": 55,
   "metadata": {},
   "outputs": [
    {
     "name": "stdout",
     "output_type": "stream",
     "text": [
      "Would you like to join the short quiz?\n"
     ]
    },
    {
     "name": "stdin",
     "output_type": "stream",
     "text": [
      " TBA\n"
     ]
    },
    {
     "name": "stdout",
     "output_type": "stream",
     "text": [
      "Is this you answer TBA.\n"
     ]
    },
    {
     "name": "stdin",
     "output_type": "stream",
     "text": [
      " Yes\n"
     ]
    },
    {
     "name": "stdout",
     "output_type": "stream",
     "text": [
      "Processing...\n"
     ]
    }
   ],
   "source": [
    "Agreement();"
   ]
  },
  {
   "cell_type": "markdown",
   "metadata": {},
   "source": [
    "### Quiz1\n",
    "\n",
    "#### What it does\n",
    "This method prints a welcome message and rules then asks for the user's permission to join the short quiz\n",
    "\n",
    "#### Implementation (how it works)\n",
    "It first calls WelcomeRules to do a basic welcome and rules, then calls Agreement to get the person's permission to join the quiz.\n"
   ]
  },
  {
   "cell_type": "code",
   "execution_count": 56,
   "metadata": {},
   "outputs": [],
   "source": [
    "// A chatbot - prints a welcome message, asks the user's name then greets them personally\n",
    "//\n",
    "public static void Quiz1 ()\n",
    "{\n",
    "     WelcomeRules();\n",
    "     Agreement();\n",
    "     return;\n",
    "} // END Quiz1\n"
   ]
  },
  {
   "cell_type": "markdown",
   "metadata": {},
   "source": [
    "#### Testing"
   ]
  },
  {
   "cell_type": "code",
   "execution_count": 57,
   "metadata": {},
   "outputs": [
    {
     "name": "stdout",
     "output_type": "stream",
     "text": [
      "Hello there user\n",
      "Welcome to the Short Computer Science Quiz\n",
      "Here are the rules list below.\n",
      "Rule 1 : Do not look up information on the internet\n",
      "Rule 2 : Do not ask anyone for help\n",
      "Rule 3 : Have fun and enjoy\n",
      "Would you like to join the short quiz?\n"
     ]
    },
    {
     "name": "stdin",
     "output_type": "stream",
     "text": [
      " Okay\n"
     ]
    },
    {
     "name": "stdout",
     "output_type": "stream",
     "text": [
      "Is this you answer Okay.\n"
     ]
    },
    {
     "name": "stdin",
     "output_type": "stream",
     "text": [
      " No\n"
     ]
    },
    {
     "name": "stdout",
     "output_type": "stream",
     "text": [
      "Processing...\n"
     ]
    }
   ],
   "source": [
    "Quiz1 ();"
   ]
  },
  {
   "cell_type": "markdown",
   "metadata": {},
   "source": [
    "### Question1\n",
    "\n",
    "#### What it does\n",
    "This method prints out a question and the user has the answer. The method allows to respond to question and calls another method to check if it is correct and return +1 for the point game.\n",
    "\n",
    "#### Implementation (how it works)\n",
    "It calls scanner for the user input and makes the user answer all upper cases so that does not affect the answer.\n"
   ]
  },
  {
   "cell_type": "code",
   "execution_count": 59,
   "metadata": {},
   "outputs": [],
   "source": [
    "// Asks for response for the first question\n",
    "//\n",
    "public static int Question1 ()\n",
    "{\n",
    "    String Answer1;\n",
    "    int Point = 0;\n",
    "    Scanner scanner = new Scanner(System.in);\n",
    "    final String message2 = \"What are the two type of variables, if global variable is given.\";\n",
    "    System.out.println(message2);\n",
    "    Answer1 = scanner.nextLine();\n",
    "    Answer1= Answer1.toUpperCase();\n",
    "    if (ChecktheAnswer(Answer1, \"LOCAL\"))\n",
    "    {\n",
    "        System.out.println(\"That is Correct\");\n",
    "        Point = 1;\n",
    "    }\n",
    "    else\n",
    "    {\n",
    "        System.out.println(\"That is Incorrect. The correct answer was local varaible, which stores data in methods only.\");\n",
    "    }\n",
    "    \n",
    "    return Point;\n",
    "} // END Question1"
   ]
  },
  {
   "cell_type": "markdown",
   "metadata": {},
   "source": [
    "#### Testing"
   ]
  },
  {
   "cell_type": "code",
   "execution_count": 60,
   "metadata": {},
   "outputs": [
    {
     "ename": "UnresolvedReferenceException",
     "evalue": "Attempt to use definition snippet with unresolved references in MethodSnippet:Question1/()int-// Asks for response for the first question\n//\npublic static int Question1 ()\n{\n    String Answer1;\n    int Point = 0;\n    Scanner scanner = new Scanner(System.in);\n    final String message2 = \"What are the two type of variables, if global variable is given.\";\n    System.out.println(message2);\n    Answer1 = scanner.nextLine();\n    Answer1= Answer1.toUpperCase();\n    if (ChecktheAnswer(Answer1, \"LOCAL\"))\n    {\n        System.out.println(\"That is Correct\");\n        Point = 1;\n    }\n    else\n    {\n        System.out.println(\"That is Incorrect. The correct answer was local varaible, which stores data in methods only.\");\n    }\n    \n    return Point;\n} // END Question1",
     "output_type": "error",
     "traceback": [
      "\u001b[1m\u001b[30m|   \u001b[1m\u001b[30m// Asks for response for the first question\u001b[0m",
      "\u001b[1m\u001b[30m|   \u001b[1m\u001b[30m//\u001b[0m",
      "\u001b[1m\u001b[30m|   \u001b[1m\u001b[30mpublic static int Question1 ()\u001b[0m",
      "\u001b[1m\u001b[30m|   \u001b[1m\u001b[30m{\u001b[0m",
      "\u001b[1m\u001b[30m|   \u001b[1m\u001b[30m    String Answer1;\u001b[0m",
      "\u001b[1m\u001b[30m|   \u001b[1m\u001b[30m    int Point = 0;\u001b[0m",
      "\u001b[1m\u001b[30m|   \u001b[1m\u001b[30m    Scanner scanner = new Scanner(System.in);\u001b[0m",
      "\u001b[1m\u001b[30m|   \u001b[1m\u001b[30m    final String message2 = \"What are the two type of variables, if global variable is given.\";\u001b[0m",
      "\u001b[1m\u001b[30m|   \u001b[1m\u001b[30m    System.out.println(message2);\u001b[0m",
      "\u001b[1m\u001b[30m|   \u001b[1m\u001b[30m    Answer1 = scanner.nextLine();\u001b[0m",
      "\u001b[1m\u001b[30m|   \u001b[1m\u001b[30m    Answer1= Answer1.toUpperCase();\u001b[0m",
      "\u001b[1m\u001b[30m|   \u001b[1m\u001b[30m    if (ChecktheAnswer(Answer1, \"LOCAL\"))\u001b[0m",
      "\u001b[1m\u001b[30m|   \u001b[1m\u001b[30m    {\u001b[0m",
      "\u001b[1m\u001b[30m|   \u001b[1m\u001b[30m        System.out.println(\"That is Correct\");\u001b[0m",
      "\u001b[1m\u001b[30m|   \u001b[1m\u001b[30m        Point = 1;\u001b[0m",
      "\u001b[1m\u001b[30m|   \u001b[1m\u001b[30m    }\u001b[0m",
      "\u001b[1m\u001b[30m|   \u001b[1m\u001b[30m    else\u001b[0m",
      "\u001b[1m\u001b[30m|   \u001b[1m\u001b[30m    {\u001b[0m",
      "\u001b[1m\u001b[30m|   \u001b[1m\u001b[30m        System.out.println(\"That is Incorrect. The correct answer was local varaible, which stores data in methods only.\");\u001b[0m",
      "\u001b[1m\u001b[30m|   \u001b[1m\u001b[30m    }\u001b[0m",
      "\u001b[1m\u001b[30m|   \u001b[1m\u001b[30m    \u001b[0m",
      "\u001b[1m\u001b[30m|   \u001b[1m\u001b[30m    return Point;\u001b[0m",
      "\u001b[1m\u001b[30m|   \u001b[1m\u001b[30m} // END Question1\u001b[0m",
      "\u001b[1m\u001b[31mUnresolved dependencies:\u001b[0m",
      "\u001b[1m\u001b[31m   - method ChecktheAnswer(java.lang.String,java.lang.String)\u001b[0m"
     ]
    }
   ],
   "source": [
    "Question1 ();"
   ]
  },
  {
   "cell_type": "markdown",
   "metadata": {},
   "source": [
    "### ChecktheAnswer\n",
    "\n",
    "#### What it does\n",
    "This method checks if the arguments given are equal to each other or not.\n",
    "#### Implementation (how it works)\n",
    "It check if UserA and Answer are equal, if yes then it will return a boolean value of true, if not it will return a value of false.\n"
   ]
  },
  {
   "cell_type": "code",
   "execution_count": 61,
   "metadata": {},
   "outputs": [],
   "source": [
    "// Check if the arguments are both the same\n",
    "//\n",
    "public static boolean ChecktheAnswer (String UserA, String Answer)\n",
    "{\n",
    "    if (UserA.equals(Answer))\n",
    "    {\n",
    "        return true;\n",
    "    }\n",
    "    else\n",
    "    {\n",
    "        return false;\n",
    "    }\n",
    "\n",
    "} // END ChecktheAnswer"
   ]
  },
  {
   "cell_type": "markdown",
   "metadata": {},
   "source": [
    "#### Testing"
   ]
  },
  {
   "cell_type": "code",
   "execution_count": 62,
   "metadata": {},
   "outputs": [
    {
     "data": {
      "text/plain": [
       "true"
      ]
     },
     "execution_count": 62,
     "metadata": {},
     "output_type": "execute_result"
    }
   ],
   "source": [
    "String Answer = \"LOCAL\";\n",
    "ChecktheAnswer(Answer,\"LOCAL\");"
   ]
  },
  {
   "cell_type": "markdown",
   "metadata": {},
   "source": [
    "### PlayerSystem\n",
    "\n",
    "#### What it does\n",
    "This method creates a point system and runs the other methods.\n",
    "\n",
    "#### Implementation (how it works)\n",
    "It creates a scanner to ask for the user for how many people will be playing the game. Additonally, it gives you result of how many question you have gotten correct.\n"
   ]
  },
  {
   "cell_type": "code",
   "execution_count": 73,
   "metadata": {},
   "outputs": [],
   "source": [
    "// Adds up all correct and answers and asks the user how many people are playing\n",
    "//\n",
    "public static void PlayerSystem ()\n",
    "{\n",
    "    final int AmountofQuesitons = 2;\n",
    "    String NumberofPlayers;\n",
    "    int NumberofPlays;\n",
    "    int PointSystem = 0;\n",
    "    int Placements = 0;\n",
    "    int Correct = 0;\n",
    "    int PreviousCorrect = 0;\n",
    "    int Questions = 1;\n",
    "    Scanner scanner = new Scanner(System.in);\n",
    "    System.out.println(\"How many people would you like to play?\");\n",
    "    NumberofPlayers = scanner.nextLine();\n",
    "    NumberofPlays = Integer.parseInt(NumberofPlayers);\n",
    "    int ArrayLength = AmountofQuesitons * NumberofPlays;\n",
    "    int [] ArrayPoints = new int [ArrayLength];\n",
    "    for (int i = 1; i <= NumberofPlays; i++)\n",
    "    {\n",
    "         \n",
    "    }\n",
    "            \n",
    "        \n",
    "    \n",
    "    \n",
    "} // END PlayerSystem"
   ]
  },
  {
   "cell_type": "markdown",
   "metadata": {},
   "source": [
    "#### Testing"
   ]
  },
  {
   "cell_type": "code",
   "execution_count": 64,
   "metadata": {},
   "outputs": [
    {
     "ename": "CompilationException",
     "evalue": "",
     "output_type": "error",
     "traceback": [
      "\u001b[1m\u001b[30m|   \u001b[1m\u001b[30m\u001b[0m\u001b[1m\u001b[30m\u001b[41mPlayerSystem\u001b[0m\u001b[1m\u001b[30m();\u001b[0m",
      "\u001b[1m\u001b[31mcannot find symbol\u001b[0m",
      "\u001b[1m\u001b[31m  symbol:   method PlayerSystem()\u001b[0m",
      ""
     ]
    }
   ],
   "source": [
    "PlayerSystem();"
   ]
  },
  {
   "cell_type": "markdown",
   "metadata": {},
   "source": [
    "### Question2\n",
    "\n",
    "#### What it does\n",
    "This method prints out a question and the user has the answer. The method allows to respond to question and calls another method to check if it is correct and return +1 for the point game.\n",
    "\n",
    "#### Implementation (how it works)\n",
    "It calls scanner for the user input and makes the user answer all upper cases so that does not affect the answer.\n"
   ]
  },
  {
   "cell_type": "code",
   "execution_count": 65,
   "metadata": {},
   "outputs": [],
   "source": [
    "// Asks for response for the secondquestion\n",
    "//\n",
    "public static int Questions2 ()\n",
    "{\n",
    "    String Answer2;\n",
    "    int Point = 0;\n",
    "    Scanner scanner = new Scanner(System.in);\n",
    "    final String message = \"What is the word we break down a program into a bit by bit.\";\n",
    "    System.out.println(message);\n",
    "    Answer2 = scanner.nextLine();\n",
    "    Answer2= Answer2.toUpperCase();\n",
    "    if (ChecktheAnswer(Answer2, \"ABSTRACTION\"))\n",
    "    {\n",
    "        System.out.println(\"That is Correct\");\n",
    "        Point = 1;\n",
    "    }\n",
    "    else\n",
    "    {\n",
    "        System.out.println(\"That is Incorrect. The correct answer was abstraction\");\n",
    "    }\n",
    "    \n",
    "    return Point;\n",
    "} // END Questions2\n"
   ]
  },
  {
   "cell_type": "markdown",
   "metadata": {},
   "source": [
    "#### Testing"
   ]
  },
  {
   "cell_type": "code",
   "execution_count": 66,
   "metadata": {},
   "outputs": [
    {
     "ename": "CompilationException",
     "evalue": "",
     "output_type": "error",
     "traceback": [
      "\u001b[1m\u001b[30m|   \u001b[1m\u001b[30m\u001b[0m\u001b[1m\u001b[30m\u001b[41mQuesiton2\u001b[0m\u001b[1m\u001b[30m ();\u001b[0m",
      "\u001b[1m\u001b[31mcannot find symbol\u001b[0m",
      "\u001b[1m\u001b[31m  symbol:   method Quesiton2()\u001b[0m",
      ""
     ]
    }
   ],
   "source": [
    "Quesiton2 ();"
   ]
  },
  {
   "cell_type": "markdown",
   "metadata": {},
   "source": [
    "### UserInformation\n",
    "\n",
    "#### What it does\n",
    "This is a class that is created to store variables\n",
    "\n",
    "#### Implementation (how it works)\n",
    "Creates a String Variable and Total amount stored\n"
   ]
  },
  {
   "cell_type": "code",
   "execution_count": 67,
   "metadata": {},
   "outputs": [],
   "source": [
    "// Creates variables\n",
    "//\n",
    "class UserInformation\n",
    "{\n",
    "    String User;\n",
    "    int Points;\n",
    "} // END UserInformation\n"
   ]
  },
  {
   "cell_type": "markdown",
   "metadata": {},
   "source": [
    "#### Testing"
   ]
  },
  {
   "cell_type": "code",
   "execution_count": 68,
   "metadata": {},
   "outputs": [],
   "source": [
    "UserInformation User1 = new UserInformation()"
   ]
  },
  {
   "cell_type": "markdown",
   "metadata": {},
   "source": [
    "### Interface\n",
    "\n",
    "#### What it does\n",
    "This creates table on where you can see where you have gotten things incorrect.\n",
    "\n",
    "#### Implementation (how it works)\n",
    "This is done by creating a for loop and searching through an array.\n"
   ]
  },
  {
   "cell_type": "code",
   "execution_count": 69,
   "metadata": {},
   "outputs": [],
   "source": [
    "// Creates Inferace where users can see what they got.\n",
    "//\n",
    "public static void Intereface(int NumberofPlayers,int [] Points)\n",
    "{\n",
    "    final int PointPerson =  Points.length/NumberofPlayers;\n",
    "    System.out.println(PointPerson);\n",
    "    for (int i = 1; i <= NumberofPlayers; i ++)\n",
    "    {\n",
    "        String Message = \"User\"+(i)+\" | \";\n",
    "        for (int j = 1; j <= PointPerson; j ++)\n",
    "        {\n",
    "            Message=Message+Points[i+j-1]+\" | \";\n",
    "        }\n",
    "        System.out.println(Message);\n",
    "    }\n",
    "    return; \n",
    "} // END UserInformation\n"
   ]
  },
  {
   "cell_type": "markdown",
   "metadata": {},
   "source": [
    "#### Testing"
   ]
  },
  {
   "cell_type": "code",
   "execution_count": 70,
   "metadata": {},
   "outputs": [
    {
     "name": "stdout",
     "output_type": "stream",
     "text": [
      "2\n",
      "User1 | 0 | 1 | \n",
      "User2 | 1 | 1 | \n"
     ]
    }
   ],
   "source": [
    "int [] Array = {1,0,1,1};\n",
    "Intereface(2, Array);"
   ]
  },
  {
   "cell_type": "markdown",
   "metadata": {},
   "source": [
    "### Interface\n",
    "\n",
    "#### What it does\n",
    "This creates table on where you can see where you have gotten things incorrect.\n",
    "\n",
    "#### Implementation (how it works)\n",
    "This is done by creating a for loop and searching through an array.\n"
   ]
  },
  {
   "cell_type": "code",
   "execution_count": 7,
   "metadata": {},
   "outputs": [],
   "source": [
    "// Checks if the user got the answer correct or wrong\n",
    "//\n",
    "public static int CorrectBoolean(int PreviousCorrect, int Correct,int [] Points)\n",
    "{\n",
    "    if (PreviousCorrect < Correct)\n",
    "    {\n",
    "        return 1;\n",
    "    }\n",
    "    return 0;\n",
    "} // END CorrectBoolean\n",
    "\n",
    "\n"
   ]
  },
  {
   "cell_type": "markdown",
   "metadata": {},
   "source": [
    "#### Testing"
   ]
  },
  {
   "cell_type": "code",
   "execution_count": 6,
   "metadata": {},
   "outputs": [
    {
     "data": {
      "text/plain": [
       "1"
      ]
     },
     "execution_count": 6,
     "metadata": {},
     "output_type": "execute_result"
    }
   ],
   "source": [
    "int [] Array = new int[4]; \n",
    "Array[1]=CorrectBoolean(1,3,Array);"
   ]
  },
  {
   "cell_type": "markdown",
   "metadata": {},
   "source": [
    "### Questions\n",
    "\n",
    "#### What it does\n",
    "This creates table on where you can see where you have gotten things incorrect.\n",
    "\n",
    "#### Implementation (how it works)\n",
    "This is done by creating a for loop and searching through an array.\n"
   ]
  },
  {
   "cell_type": "code",
   "execution_count": 33,
   "metadata": {},
   "outputs": [],
   "source": [
    "// Checks if the user got the answer correct or wrong\n",
    "//\n",
    "public static void WriteQuestions() throws IOException\n",
    "{\n",
    "    PrintWriter input_Questions = new PrintWriter (new FileWriter(\"questions.txt\"));\n",
    "    input_Questions.println(\"Questions,Answer\");\n",
    "    input_Questions.println(\"What are the two type of variables, if global variable is given.\");\n",
    "    input_Questions.println(\"LOCAL\");\n",
    "    input_Questions.println(\"What is the word we break down a program into a bit by bit.\");\n",
    "    input_Questions.println(\"ABSTRACTION\");\n",
    "    input_Questions.close();\n",
    "} // END CorrectBoolean\n",
    "\n",
    "\n"
   ]
  },
  {
   "cell_type": "markdown",
   "metadata": {},
   "source": [
    "#### Testing"
   ]
  },
  {
   "cell_type": "code",
   "execution_count": 13,
   "metadata": {},
   "outputs": [],
   "source": [
    "Questions();"
   ]
  },
  {
   "cell_type": "markdown",
   "metadata": {},
   "source": [
    "### ReadingQuestions\n",
    "\n",
    "#### What it does\n",
    "This creates table on where you can see where you have gotten things incorrect.\n",
    "\n",
    "#### Implementation (how it works)\n",
    "This is done by creating a for loop and searching through an array.\n"
   ]
  },
  {
   "cell_type": "code",
   "execution_count": 15,
   "metadata": {},
   "outputs": [],
   "source": [
    "// Checks if the user got the answer correct or wrong\n",
    "//\n",
    "class QnA\n",
    "{\n",
    "    String Question;\n",
    "    String Answer;\n",
    "}\n",
    "public static QnA CreateQnA()\n",
    "{\n",
    "    QnA l = new QnA();\n",
    "\n",
    "    l.Question = \"\";\n",
    "    l.Answer = \"\";\n",
    "\n",
    "    return l;\n",
    "}\n",
    "\n",
    "public static String InputString(String Message)\n",
    "{\n",
    "    Scanner scanner = new Scanner(System.in);\n",
    "    System.out.println(Message);\n",
    "    String input = scanner.nextLine();\n",
    "    return input;\n",
    "}\n",
    "\n",
    "public static QnA addQuestion(QnA Quest,String QuestionNo,String Ans)\n",
    "{\n",
    "    Quest = CreateQnA();\n",
    "    Quest = setName(Quest, QuestionNo);\n",
    "    Quest = setAns(Quest, Ans);\n",
    "    return Quest;\n",
    "}\n",
    "\n",
    "public static QnA setName(QnA Q, String name)\n",
    "{\n",
    "    Q.name = name;\n",
    "    return Q;\n",
    "}\n",
    "    \n",
    "public static QnA setAns(QnA Q, String ans)\n",
    "{\n",
    "    Q.name = ans;\n",
    "    return Q;\n",
    "}\n",
    "\n",
    "public static String getQuestion(QnA Q)\n",
    "{\n",
    "    return Q.Question;\n",
    "}\n",
    "    \n",
    "public static int ReadingQuestions(int Questions) throws Exception\n",
    "{\n",
    "    final int Lines = Questions *2;\n",
    "    String Question = \"\";\n",
    "    String Answer = \"\";\n",
    "    int System = 0;\n",
    "    QnA [] ListofQuestions = new QnA [Lines];\n",
    "    BufferedReader ReadQuestion = new BufferedReader (new FileReader(\"questions.txt\"));\n",
    "    for (int i = 0; i < Lines; i++)\n",
    "    {\n",
    "        Question = ReadQuestion.readLine();\n",
    "        Answer = ReadQuestion.readLine();\n",
    "        ListofQuestions[i] = addQuestion(ListofQuestions[i], Question, Answer);\n",
    "    }\n",
    "    String Userinput;\n",
    "    for (int i = 0; i <= Questions; i++)\n",
    "    {\n",
    "        Userinput = InputString(getQuestions(ListofQuestions[(i*2)]));\n",
    "        if (Userinput.equals(getQuestions(ListofQuestions[(i*2)+1])))\n",
    "        {\n",
    "            PointSystem = PointSystem + 1;\n",
    "        }\n",
    "    }\n",
    "    return PointSystem;\n",
    "} // END CorrectBoolean\n",
    "\n",
    "\n",
    "\n",
    "\n"
   ]
  },
  {
   "cell_type": "markdown",
   "metadata": {},
   "source": [
    "#### Testing"
   ]
  },
  {
   "cell_type": "code",
   "execution_count": 19,
   "metadata": {},
   "outputs": [],
   "source": [
    "ReadingQuestions(2);"
   ]
  },
  {
   "cell_type": "markdown",
   "metadata": {},
   "source": [
    "## The complete program \n",
    "This version will only compile here. To run it copy it into a file called initials.java on your local computer and compile and run it there."
   ]
  },
  {
   "cell_type": "code",
   "execution_count": 2,
   "metadata": {},
   "outputs": [],
   "source": [
    "/* ***************************************\n",
    "  @author    Michael Mgbeahurike\n",
    "  @SID       230332704\n",
    "  @date      17 October 2023\n",
    "  @version   1\n",
    "\n",
    "    Miniproject Level 8\n",
    "    A short quiz which only contains only 2\n",
    "    questions and has point system as well\n",
    "    and only two users can \n",
    "   ****************************************/\n",
    "import java.io.*;\n",
    "// Creates variables\n",
    "//\n",
    "class UserInformation\n",
    "{\n",
    "    String User;\n",
    "    int Points;\n",
    "} // END UserInformation\n",
    "\n",
    "class QnA\n",
    "{\n",
    "    String Question;\n",
    "    String Answer;\n",
    "}//END QnA\n",
    "\n",
    "class ShortQuiz\n",
    "{\n",
    "    public static void main (String [] a) throws IOException\n",
    "    {\n",
    "        Quiz1();\n",
    "        return;\n",
    "    } // END main\n",
    "\n",
    "    //Writes the questions by creates .txt file.\n",
    "    public static void WriteQuestions() throws IOException\n",
    "    {\n",
    "        PrintWriter input_Questions = new PrintWriter (new FileWriter(\"questions.txt\"));\n",
    "        input_Questions.println(\"What are the two type of variables, if global variable is given.\");\n",
    "        input_Questions.println(\"LOCAL\");\n",
    "        input_Questions.println(\"What is the word we break down a program into a bit by bit.\");\n",
    "        input_Questions.println(\"ABSTRACTION\");\n",
    "        input_Questions.close();\n",
    "    }//END WriteQuestions\n",
    "    //The Method creates record and assigns empty string to the fields.\n",
    "    public static QnA CreateQnA() \n",
    "    {\n",
    "        QnA l = new QnA();\n",
    "    \n",
    "        l.Question = \"\";\n",
    "        l.Answer = \"\";\n",
    "    \n",
    "        return l;\n",
    "    }//ENDS CreateQnA\n",
    "    //The method outputs the message and asks for the user to input something.\n",
    "    public static String InputString(String Message)\n",
    "    {\n",
    "        Scanner scanner = new Scanner(System.in);\n",
    "        System.out.println(Message);\n",
    "        String input = scanner.nextLine();\n",
    "        return input;\n",
    "    }//END InputString\n",
    "    //The method creates a record and calls the other record and returns the record\n",
    "    public static QnA addQuestion(QnA Quest,String QuestionNo,String Ans)\n",
    "    {\n",
    "        Quest = CreateQnA();\n",
    "        Quest = setName(Quest, QuestionNo);\n",
    "        Quest = setAns(Quest, Ans);\n",
    "        return Quest;\n",
    "    }//END addQuestion\n",
    "    //The method assigns a field and returns the record.\n",
    "    public static QnA setName(QnA Q, String var)\n",
    "    {\n",
    "        Q.Question = var;\n",
    "        return Q;\n",
    "    }//END setName\n",
    "    //The method assigns a field and returns the record.    \n",
    "    public static QnA setAns(QnA Q, String var)\n",
    "    {\n",
    "        Q.Answer = var;\n",
    "        return Q;\n",
    "    }//END setAns\n",
    "\n",
    "    //The method returns a field from a record.\n",
    "    public static String getQuestion(QnA Q)\n",
    "    {\n",
    "        return Q.Question;\n",
    "    }//END getQuestion\n",
    "    \n",
    "    //The method returns a field from a record. \n",
    "    public static String getAns(QnA Q)\n",
    "    {\n",
    "        return Q.Answer;\n",
    "    }//END getAns\n",
    "    //The method read the csv file and place in a record array and checks if the they got it correct.\n",
    "    public static int ReadingQuestions(int AmountQuestions, int Question,int PointSystem) throws IOException\n",
    "    {\n",
    " \n",
    "        final int Lines = AmountQuestions *2;\n",
    "        String Questionth = \"\";\n",
    "        String Answerth = \"\";\n",
    "        QnA [] ListofQuestions = new QnA [Lines];\n",
    "        BufferedReader ReadQuestion = new BufferedReader (new FileReader(\"questions.txt\"));\n",
    "        for (int i = 0; i < Lines; i++)\n",
    "        {\n",
    "            Questionth = ReadQuestion.readLine();\n",
    "            Answerth = ReadQuestion.readLine();\n",
    "            ListofQuestions[i] = addQuestion(ListofQuestions[i], Questionth, Answerth);\n",
    "        }\n",
    "        String Userinput;\n",
    "        Userinput = InputString(getQuestion(ListofQuestions[(Question-1)]));\n",
    "        Userinput = Userinput.toUpperCase();\n",
    "        if (Userinput.equals(getAns(ListofQuestions[((Question-1))])))\n",
    "        {\n",
    "            PointSystem = PointSystem + 1;\n",
    "        }\n",
    "        else\n",
    "        {\n",
    "            if (Question == 1)\n",
    "            {\n",
    "                System.out.println(\"That is Incorrect. The correct answer was local varaible, which stores data in methods only.\");\n",
    "            }\n",
    "            else if (Question == 2)\n",
    "            {\n",
    "                System.out.println(\"That is Incorrect. The correct answer was abstraction\");\n",
    "            }\n",
    "        }\n",
    "            \n",
    "\n",
    "        return PointSystem;\n",
    "    } //END ReadingQuestion\n",
    "\n",
    "    // Creates Inferace where users can see what they got.\n",
    "    //\n",
    "    public static void Intereface(int NumberofPlayers,int [] Points)\n",
    "    {\n",
    "        final int PointPerson =  2;\n",
    "        for (int i = 0; i <= NumberofPlayers-1; i ++)\n",
    "        {\n",
    "            String Message = \"User\"+(i+1)+\" | \";\n",
    "            for (int j = 0; j <= PointPerson-1; j ++)\n",
    "            {\n",
    "                Message=Message+Points[(i*2)+j]+\" | \";\n",
    "            }\n",
    "            System.out.println(Message);\n",
    "        }\n",
    "        return; \n",
    "    } // END UserInformation\n",
    "\n",
    "    // Asks for response for the secondquestion\n",
    "    //\n",
    "    public static int Questions2 ()\n",
    "    {\n",
    "        String Answer2;\n",
    "        int Point = 0;\n",
    "        Scanner scanner = new Scanner(System.in);\n",
    "        final String message = \"What is the word we break down a program into a bit by bit.\";\n",
    "        System.out.println(message);\n",
    "        Answer2 = scanner.nextLine();\n",
    "        Answer2= Answer2.toUpperCase();\n",
    "        if (ChecktheAnswer(Answer2, \"ABSTRACTION\"))\n",
    "        {\n",
    "            System.out.println(\"That is Correct\");\n",
    "            Point = 1;\n",
    "        }\n",
    "        else\n",
    "        {\n",
    "            System.out.println(\"That is Incorrect. The correct answer was abstraction\");\n",
    "        }\n",
    "        \n",
    "        return Point;\n",
    "    } // END Questions2\n",
    "\n",
    "    // Checks if the user got the answer correct or wrong\n",
    "    //\n",
    "    public static int CorrectBoolean(int PreviousCorrect, int Correct,int [] Points)\n",
    "    {\n",
    "        if (PreviousCorrect < Correct && Correct != 0)\n",
    "        {\n",
    "            return 1;\n",
    "        }\n",
    "        return 0;\n",
    "    } // END CorrectBoolean\n",
    "    \n",
    "    // Adds up all correct and answers and asks the user how many people are playing\n",
    "    //\n",
    "    public static void PlayerSystem () throws IOException\n",
    "    {\n",
    "        WriteQuestions();\n",
    "        UserInformation User1 = new UserInformation();\n",
    "        UserInformation User2 = new UserInformation();\n",
    "        final int AmountofQuesitons = 2;\n",
    "        String NumberofPlayers;\n",
    "        int NumberofPlays;\n",
    "        int PointSystem = 0;\n",
    "        int Placement = 0;\n",
    "        int PreviousCorrect = 0;\n",
    "        int Questions = 1;\n",
    "        Scanner scanner = new Scanner(System.in);\n",
    "        System.out.println(\"How many people would you like to play?(Max 2 players)\");\n",
    "        NumberofPlayers = scanner.nextLine();\n",
    "        NumberofPlays = Integer.parseInt(NumberofPlayers);\n",
    "        while (NumberofPlays>3)\n",
    "        {\n",
    "            NumberofPlayers = scanner.nextLine();\n",
    "            NumberofPlays = Integer.parseInt(NumberofPlayers);\n",
    "        }\n",
    "        System.out.println(\"What would like your username to be Player1?\");\n",
    "        User1.User = scanner.nextLine();\n",
    "        if (NumberofPlays == 2)\n",
    "        {\n",
    "            System.out.println(\"What would like your username to be Player2?\");\n",
    "            User2.User = scanner.nextLine();\n",
    "        }\n",
    "        int ArrayLength = AmountofQuesitons*NumberofPlays;\n",
    "        int [] ArrayPoint = new int [ArrayLength];\n",
    "        for (int i = 1; i <= NumberofPlays; i++)\n",
    "        {\n",
    "            PreviousCorrect = 0;\n",
    "            Questions =1;\n",
    "            PointSystem = 0;\n",
    "            System.out.println(\"Player \"+ i+\" is your turn\");\n",
    "            PointSystem = ReadingQuestions(AmountofQuesitons,Questions,PointSystem);\n",
    "            //PointSystem = Question1() + PointSystem;\n",
    "            Questions = Questions + 1;\n",
    "            ArrayPoint[Placement] = CorrectBoolean(PreviousCorrect, PointSystem, ArrayPoint);\n",
    "            PreviousCorrect = PointSystem;\n",
    "            PointSystem = ReadingQuestions(AmountofQuesitons, Questions,PointSystem);\n",
    "            //PointSystem = Questions2() + PointSystem;\n",
    "            Placement = Placement +1;\n",
    "            ArrayPoint[Placement] = CorrectBoolean(PreviousCorrect, PointSystem, ArrayPoint);\n",
    "            if (i==1)\n",
    "            {\n",
    "                User1.Points=PointSystem;\n",
    "            }\n",
    "            else\n",
    "            {\n",
    "                User2.Points=PointSystem;\n",
    "            }\n",
    "            System.out.println(\"Here is your score \" + PointSystem);\n",
    "            Placement = Placement + 1;\n",
    "        }\n",
    "        for (int i = 0; i < 4; i++)\n",
    "        {\n",
    "            System.out.println(ArrayPoint[i]);\n",
    "        }\n",
    "        Intereface(NumberofPlays,ArrayPoint);\n",
    "    } // END PlayerSystem\n",
    "    \n",
    "    \n",
    "   // Check if the arguments are both the same\n",
    "    //\n",
    "    public static boolean ChecktheAnswer (String UserA, String Answer)\n",
    "    {\n",
    "        if (UserA.equals(Answer))\n",
    "        {\n",
    "            return true;\n",
    "        }\n",
    "        else\n",
    "        {\n",
    "            return false;\n",
    "        }\n",
    "    \n",
    "    } // END ChecktheAnswer\n",
    "\n",
    "    // Asks for response for the first question\n",
    "    //\n",
    "    public static int Question1 ()\n",
    "    {\n",
    "        String Answer1;\n",
    "        int Point = 0;\n",
    "        Scanner scanner = new Scanner(System.in);\n",
    "        final String message2 = \"What are the two type of variables, if global variable is given.\";\n",
    "        System.out.println(message2);\n",
    "        Answer1 = scanner.nextLine();\n",
    "        Answer1= Answer1.toUpperCase();  //makes all the character a upper case\n",
    "        if (ChecktheAnswer(Answer1, \"LOCAL\"))\n",
    "        {\n",
    "            System.out.println(\"That is Correct\");\n",
    "            Point = 1;\n",
    "        }\n",
    "        else\n",
    "        {\n",
    "            System.out.println(\"That is Incorrect. The correct answer was local varaible, which stores data in methods only.\");\n",
    "        }\n",
    "        \n",
    "        return Point;\n",
    "    } // END Question1\n",
    "    // Print ahello message and the rules\n",
    "    //\n",
    "    public static void WelcomeRules ()\n",
    "    {\n",
    "         System.out.println(\"=============================================\");\n",
    "         System.out.println(\"Hello there user\");\n",
    "         System.out.println(\"Welcome to the Short Computer Science Quiz\");\n",
    "         System.out.println(\"Here are the rules list below.\");\n",
    "         Rules();\n",
    "         System.out.println(\"=============================================\");\n",
    "         return;\n",
    "    } // END WelcomeRules\n",
    "\n",
    "    //Prints the rules for the quiz.\n",
    "    //\n",
    "    public static void Rules ()\n",
    "    {\n",
    "        System.out.println(\"Rule 1 : Do not look up information on the internet\");\n",
    "        System.out.println(\"Rule 2 : Do not ask anyone for help\");\n",
    "        System.out.println(\"Rule 3 : Have fun and enjoy\");\n",
    "        return;\n",
    "    } // END Rules\n",
    "        \n",
    "    \n",
    "    // Asks the users if the user would like to join the quiz\n",
    "    //\n",
    "    public static void Agreement () throws IOException\n",
    "    {\n",
    "         String Agree1;\n",
    "         String Agree2;\n",
    "         Scanner scanner = new Scanner(System.in);\n",
    "         System.out.println(\"=============================================\");\n",
    "         System.out.println(\"Would you like to join the short quiz?\");\n",
    "         Agree1 = scanner.nextLine();\n",
    "         Agree1 = Agree1.toUpperCase();\n",
    "         System.out.println(\"Is this you answer \"+Agree1+ \".\");\n",
    "         Agree2 = scanner.nextLine();\n",
    "         Agree2 = Agree2.toUpperCase();\n",
    "         System.out.println(\"Processing...\");\n",
    "         System.out.println(\"=============================================\");\n",
    "         if ((Agree1.equals(\"YES\")) && (Agree2.equals(\"YES\")))\n",
    "         {\n",
    "             PlayerSystem();\n",
    "         }    \n",
    "         return;\n",
    "    } // END Agreement\n",
    "\n",
    "    \n",
    "    \n",
    "    // A short quiz program - prints a welcome message, asks the user if the user would like to play the game.\n",
    "    //\n",
    "    public static void Quiz1 () throws IOException\n",
    "    {\n",
    "         WelcomeRules();\n",
    "         Agreement();\n",
    "         return;\n",
    "    } // END Quiz1\n",
    "    \n",
    "} // END class ShortQuiz"
   ]
  },
  {
   "cell_type": "code",
   "execution_count": 3,
   "metadata": {},
   "outputs": [
    {
     "name": "stdout",
     "output_type": "stream",
     "text": [
      "=============================================\n",
      "Hello there user\n",
      "Welcome to the Short Computer Science Quiz\n",
      "Here are the rules list below.\n",
      "Rule 1 : Do not look up information on the internet\n",
      "Rule 2 : Do not ask anyone for help\n",
      "Rule 3 : Have fun and enjoy\n",
      "=============================================\n",
      "=============================================\n",
      "Would you like to join the short quiz?\n"
     ]
    },
    {
     "name": "stdin",
     "output_type": "stream",
     "text": [
      " Yes\n"
     ]
    },
    {
     "name": "stdout",
     "output_type": "stream",
     "text": [
      "Is this you answer YES.\n"
     ]
    },
    {
     "name": "stdin",
     "output_type": "stream",
     "text": [
      " Yes\n"
     ]
    },
    {
     "name": "stdout",
     "output_type": "stream",
     "text": [
      "Processing...\n",
      "=============================================\n",
      "How many people would you like to play?(Max 2 players)\n"
     ]
    },
    {
     "name": "stdin",
     "output_type": "stream",
     "text": [
      " 6\n",
      " 2\n"
     ]
    },
    {
     "name": "stdout",
     "output_type": "stream",
     "text": [
      "What would like your username to be Player1?\n"
     ]
    },
    {
     "name": "stdin",
     "output_type": "stream",
     "text": [
      " user1\n"
     ]
    },
    {
     "name": "stdout",
     "output_type": "stream",
     "text": [
      "What would like your username to be Player2?\n"
     ]
    },
    {
     "name": "stdin",
     "output_type": "stream",
     "text": [
      " user2\n"
     ]
    },
    {
     "name": "stdout",
     "output_type": "stream",
     "text": [
      "Player 1 is your turn\n",
      "What are the two type of variables, if global variable is given.\n"
     ]
    },
    {
     "name": "stdin",
     "output_type": "stream",
     "text": [
      " Lo\n"
     ]
    },
    {
     "name": "stdout",
     "output_type": "stream",
     "text": [
      "That is Incorrect. The correct answer was local varaible, which stores data in methods only.\n",
      "What is the word we break down a program into a bit by bit.\n"
     ]
    },
    {
     "name": "stdin",
     "output_type": "stream",
     "text": [
      " Asbtraction\n"
     ]
    },
    {
     "name": "stdout",
     "output_type": "stream",
     "text": [
      "That is Incorrect. The correct answer was abstraction\n",
      "Here is your score 0\n",
      "Player 2 is your turn\n",
      "What are the two type of variables, if global variable is given.\n"
     ]
    },
    {
     "name": "stdin",
     "output_type": "stream",
     "text": [
      " Local\n"
     ]
    },
    {
     "name": "stdout",
     "output_type": "stream",
     "text": [
      "What is the word we break down a program into a bit by bit.\n"
     ]
    },
    {
     "name": "stdin",
     "output_type": "stream",
     "text": [
      " Abstraction\n"
     ]
    },
    {
     "name": "stdout",
     "output_type": "stream",
     "text": [
      "Here is your score 2\n",
      "0\n",
      "0\n",
      "1\n",
      "1\n",
      "User1 | 0 | 0 | \n",
      "User2 | 1 | 1 | \n"
     ]
    }
   ],
   "source": [
    "ShortQuiz.main(null);"
   ]
  },
  {
   "cell_type": "markdown",
   "metadata": {},
   "source": [
    "**END OF LITERATE DOCUMENT**"
   ]
  }
 ],
 "metadata": {
  "kernelspec": {
   "display_name": "Java",
   "language": "java",
   "name": "java"
  },
  "language_info": {
   "codemirror_mode": "java",
   "file_extension": ".jshell",
   "mimetype": "text/x-java-source",
   "name": "Java",
   "pygments_lexer": "java",
   "version": "11.0.8+10-LTS"
  }
 },
 "nbformat": 4,
 "nbformat_minor": 4
}
